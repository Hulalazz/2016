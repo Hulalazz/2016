{
 "cells": [
  {
   "cell_type": "markdown",
   "metadata": {},
   "source": [
    "# Lecture 6: Bayesian Formalism Part II and Markov Chains\n",
    "AM207: Verena Kaynig-Fittkau,and Pavlos Protopapas, Harvard University\n"
   ]
  },
  {
   "cell_type": "code",
   "execution_count": 3,
   "metadata": {
    "collapsed": false
   },
   "outputs": [],
   "source": [
    "%matplotlib inline\n",
    "import numpy as np\n",
    "from scipy import stats\n",
    "from scipy.stats import norm\n",
    "import matplotlib.pyplot as plt\n",
    "import seaborn as sns\n",
    "sns.set_style('white')\n",
    "sns.set_context('talk')"
   ]
  },
  {
   "cell_type": "markdown",
   "metadata": {},
   "source": [
    "# Example Rainy - Sunny"
   ]
  },
  {
   "cell_type": "markdown",
   "metadata": {},
   "source": [
    "We look at a very simple Markov Chain, with only two states: Rainy or Sunny. This chain is aperiodic and irreducible, so it has a stationary distribution. We find it by looking at powers of the transition matrix."
   ]
  },
  {
   "cell_type": "code",
   "execution_count": 4,
   "metadata": {
    "collapsed": false
   },
   "outputs": [
    {
     "name": "stdout",
     "output_type": "stream",
     "text": [
      "[[ 0.33333333  0.66666667]\n",
      " [ 0.5         0.5       ]]\n",
      "\n",
      "[[ 0.44444444  0.55555556]\n",
      " [ 0.41666667  0.58333333]]\n",
      "\n",
      "[[ 0.42592593  0.57407407]\n",
      " [ 0.43055556  0.56944444]]\n",
      "\n",
      "[[ 0.42901235  0.57098765]\n",
      " [ 0.42824074  0.57175926]]\n",
      "\n",
      "[[ 0.42849794  0.57150206]\n",
      " [ 0.42862654  0.57137346]]\n",
      "\n",
      "[[ 0.42858368  0.57141632]\n",
      " [ 0.42856224  0.57143776]]\n",
      "\n",
      "[[ 0.42856939  0.57143061]\n",
      " [ 0.42857296  0.57142704]]\n",
      "\n",
      "0.444444444444\n",
      "[0.42857142857142855, 0.5714285714285714]\n"
     ]
    }
   ],
   "source": [
    "# the transition matrix for our chain\n",
    "transition_matrix = np.array([[1./3., 2./3.],[0.5, 0.5]])\n",
    "\n",
    "print transition_matrix\n",
    "print \n",
    "\n",
    "# this is the 2 transition matrix\n",
    "tm_2 = np.dot(transition_matrix, transition_matrix)\n",
    "print tm_2\n",
    "print \n",
    "\n",
    "# now for higher n. We should see that it converges to the\n",
    "# stationary distribution\n",
    "tm_before = tm_2\n",
    "for i in range(5):\n",
    "    tm_next = np.dot(tm_before, transition_matrix)\n",
    "    print tm_next\n",
    "    print\n",
    "    tm_before = tm_next\n",
    "    \n",
    "# computing the 2 step transition from Rainy to Rainy for comparison\n",
    "print 1./3.*1./3. + 2./3. * 0.5\n",
    "\n",
    "# This is the true stationary distribution \n",
    "# Found by solving for the eigenvector sT=s\n",
    "print [3./7., 4./7.]\n"
   ]
  },
  {
   "cell_type": "markdown",
   "metadata": {},
   "source": [
    "### Example: Markov Chain over Time\n",
    "\n",
    "consider a life insurance company that wants to find out how much money to charge its clients. \n",
    "The company wants to estimate how long the clients will live. It proposes the following model summarizing the state of health of an individual on a monthly basis: healthy, sick and dead with transition graph shown in figure below \n",
    "\n",
    "![markov example](./Lecture06_data/Markov_ex1.png)\n",
    "\n",
    "The transition matrix for this example is \n",
    "<div class=\"custom-class\" align=\"center\">\n",
    "$$\\left[ \\begin{array}{ccc}\n",
    "0.69 & 0.3 & 0.01 \\\\\n",
    "0.8 & 0.1 & 0.1 \\\\\n",
    "0 & 0 & 1 \\end{array} \\right] $$\n",
    "</div>\n",
    "If the probability vector for the initial state is $\\mu(x^{(1)}) = (0.5, 0.2, 0.3)$ \n",
    "it follows that $\\mu(x^{(1)})T =  (0.5050, 0.1700, 0.3250)$ and, after several iterations (multiplications by T ), the product will converge to $p(x) =(0.0178,0.0062,0.9760)$ [all dead].\n",
    "No matter what initial distribution we use, the chain will stabilize at $p(x) = (0.0, 0.0, 1.0)$. \n",
    "\n",
    "When initializing each Markov chain, the chain will wander in state space around the\n",
    "starting state. Therefore, if we start a number of chains, each with different initial conditions,\n",
    "the chains will initially be in a state close to the starting state. This period is called the\n",
    "__burnin__. An important property of Markov chains is that the starting state of the chain no\n",
    "longer affects the state of the chain after a sufficiently long sequence of transitions (assuming\n",
    "that certain conditions about the Markov chain are met). At this point, the chain is said\n",
    "to reach its steady state and the states reflect samples from its stationary distribution. This\n",
    "property that Markov chains converge to a stationary distribution regardless of where we\n",
    "started (if certain regularity conditions of the transition function are met), is quite important.\n",
    "When applied to MCMC, it allow us to draw samples from a distribution using a sequential\n",
    "procedure but where the starting state of the sequence does not affect the estimation process."
   ]
  },
  {
   "cell_type": "code",
   "execution_count": 5,
   "metadata": {
    "collapsed": false
   },
   "outputs": [
    {
     "name": "stdout",
     "output_type": "stream",
     "text": [
      "[ 0.40114154  0.28585057  0.31300789]\n",
      "[  6.16394236e-04   2.13319404e-04   9.99170286e-01]\n"
     ]
    },
    {
     "data": {
      "image/png": "[encoded data removed]",
      "text/plain": [
       "<matplotlib.figure.Figure at 0x177bf438>"
      ]
     },
     "metadata": {},
     "output_type": "display_data"
    }
   ],
   "source": [
    "# Simple example for MARKOV CHAIN\n",
    "\n",
    "# transition matrix\n",
    "#T = np.array([[0.69, 0.3, 0.01],[ 0.8, 0.1, 0.1] ,[ 0,0.1 ,0.9]])\n",
    "T = np.array([[0.69, 0.3, 0.01],[ 0.8, 0.1, 0.1] ,[ 0 , 0 ,1]])\n",
    "\n",
    "# initial state USE RANDOM NUMBERS\n",
    "p = np.random.uniform(low=0,high=1, size=3)\n",
    "# normalize \n",
    "p = p/np.sum(p)\n",
    "\n",
    "# do 100 iterations\n",
    "q=np.zeros((200,3))\n",
    "for i in np.arange(0,200):\n",
    "    #compute probability for each state\n",
    "    q[i, :] = np.dot(p,np.linalg.matrix_power(T,i))\n",
    "\n",
    "plt.plot(q)\n",
    "plt.xlabel('i')\n",
    "plt.ylim(0,1.0)\n",
    "plt.legend( ('H', 'S', 'D'))\n",
    "\n",
    "print q[0]\n",
    "print q[-1]"
   ]
  },
  {
   "cell_type": "markdown",
   "metadata": {
    "collapsed": false
   },
   "source": [
    "Let's show the same with sampling"
   ]
  },
  {
   "cell_type": "code",
   "execution_count": 12,
   "metadata": {
    "collapsed": false
   },
   "outputs": [
    {
     "data": {
      "text/plain": [
       "<matplotlib.text.Text at 0x203df7b8>"
      ]
     },
     "execution_count": 12,
     "metadata": {},
     "output_type": "execute_result"
    },
    {
     "data": {
      "image/png": "[encoded data removed]",
      "text/plain": [
       "<matplotlib.figure.Figure at 0x1ddf06d8>"
      ]
     },
     "metadata": {},
     "output_type": "display_data"
    }
   ],
   "source": [
    "number_of_samples = 100000\n",
    "samples = np.zeros(number_of_samples)\n",
    "\n",
    "oldPosition = 0#np.random.randint(low=0, high=3)\n",
    "samples[0] = oldPosition\n",
    "\n",
    "for i in xrange(number_of_samples-1):\n",
    "    newPosition = np.random.choice(3,p=T[oldPosition])\n",
    "    samples[i+1] = newPosition\n",
    "    oldPosition = newPosition\n",
    "    \n",
    "samples_hist = plt.hist(samples, bins=3)\n",
    "plt.xlabel(\"State\")\n",
    "plt.ylabel(\"Count\")"
   ]
  },
  {
   "cell_type": "code",
   "execution_count": 13,
   "metadata": {
    "collapsed": false
   },
   "outputs": [
    {
     "name": "stdout",
     "output_type": "stream",
     "text": [
      "[ 0.  0.  1.]\n"
     ]
    }
   ],
   "source": [
    "print np.around(samples_hist[0]/np.double(number_of_samples), 3)"
   ]
  },
  {
   "cell_type": "markdown",
   "metadata": {},
   "source": [
    "Note: We just took the samples right from the beginning. This is sloppy. As we can see in the graph above, the chain needs some iterations before it reaches its steady state. This part is considered the burn in and typically should just be thrown away. "
   ]
  },
  {
   "cell_type": "code",
   "execution_count": null,
   "metadata": {
    "collapsed": true
   },
   "outputs": [],
   "source": []
  }
 ],
 "metadata": {
  "kernelspec": {
   "display_name": "Python 2",
   "language": "python",
   "name": "python2"
  },
  "language_info": {
   "codemirror_mode": {
    "name": "ipython",
    "version": 2
   },
   "file_extension": ".py",
   "mimetype": "text/x-python",
   "name": "python",
   "nbconvert_exporter": "python",
   "pygments_lexer": "ipython2",
   "version": "2.7.11"
  }
 },
 "nbformat": 4,
 "nbformat_minor": 0
}
